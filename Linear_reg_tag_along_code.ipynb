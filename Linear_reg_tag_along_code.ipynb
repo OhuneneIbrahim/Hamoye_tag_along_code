{
 "cells": [
  {
   "cell_type": "markdown",
   "id": "5e5d62b0",
   "metadata": {},
   "source": [
    "# Submitted by Rabiat Ibrahim"
   ]
  },
  {
   "cell_type": "code",
   "execution_count": 1,
   "id": "f620b64d",
   "metadata": {},
   "outputs": [],
   "source": [
    "import pandas as pd\n",
    "import numpy as np\n",
    "\n",
    "from sklearn.preprocessing import MinMaxScaler\n",
    "from sklearn.model_selection import train_test_split\n",
    "from sklearn.linear_model import LinearRegression, Ridge, Lasso\n",
    "from sklearn.metrics import mean_absolute_error, mean_squared_error"
   ]
  },
  {
   "cell_type": "code",
   "execution_count": 2,
   "id": "401bd512",
   "metadata": {},
   "outputs": [],
   "source": [
    "data = pd.read_csv(\"energydata_complete.csv\")"
   ]
  },
  {
   "cell_type": "code",
   "execution_count": 3,
   "id": "44165d46",
   "metadata": {},
   "outputs": [
    {
     "data": {
      "text/html": [
       "<div>\n",
       "<style scoped>\n",
       "    .dataframe tbody tr th:only-of-type {\n",
       "        vertical-align: middle;\n",
       "    }\n",
       "\n",
       "    .dataframe tbody tr th {\n",
       "        vertical-align: top;\n",
       "    }\n",
       "\n",
       "    .dataframe thead th {\n",
       "        text-align: right;\n",
       "    }\n",
       "</style>\n",
       "<table border=\"1\" class=\"dataframe\">\n",
       "  <thead>\n",
       "    <tr style=\"text-align: right;\">\n",
       "      <th></th>\n",
       "      <th>date</th>\n",
       "      <th>Appliances</th>\n",
       "      <th>lights</th>\n",
       "      <th>T1</th>\n",
       "      <th>RH_1</th>\n",
       "      <th>T2</th>\n",
       "      <th>RH_2</th>\n",
       "      <th>T3</th>\n",
       "      <th>RH_3</th>\n",
       "      <th>T4</th>\n",
       "      <th>...</th>\n",
       "      <th>T9</th>\n",
       "      <th>RH_9</th>\n",
       "      <th>T_out</th>\n",
       "      <th>Press_mm_hg</th>\n",
       "      <th>RH_out</th>\n",
       "      <th>Windspeed</th>\n",
       "      <th>Visibility</th>\n",
       "      <th>Tdewpoint</th>\n",
       "      <th>rv1</th>\n",
       "      <th>rv2</th>\n",
       "    </tr>\n",
       "  </thead>\n",
       "  <tbody>\n",
       "    <tr>\n",
       "      <th>0</th>\n",
       "      <td>2016-01-11 17:00:00</td>\n",
       "      <td>60</td>\n",
       "      <td>30</td>\n",
       "      <td>19.89</td>\n",
       "      <td>47.596667</td>\n",
       "      <td>19.2</td>\n",
       "      <td>44.790000</td>\n",
       "      <td>19.79</td>\n",
       "      <td>44.730000</td>\n",
       "      <td>19.000000</td>\n",
       "      <td>...</td>\n",
       "      <td>17.033333</td>\n",
       "      <td>45.53</td>\n",
       "      <td>6.600000</td>\n",
       "      <td>733.5</td>\n",
       "      <td>92.0</td>\n",
       "      <td>7.000000</td>\n",
       "      <td>63.000000</td>\n",
       "      <td>5.3</td>\n",
       "      <td>13.275433</td>\n",
       "      <td>13.275433</td>\n",
       "    </tr>\n",
       "    <tr>\n",
       "      <th>1</th>\n",
       "      <td>2016-01-11 17:10:00</td>\n",
       "      <td>60</td>\n",
       "      <td>30</td>\n",
       "      <td>19.89</td>\n",
       "      <td>46.693333</td>\n",
       "      <td>19.2</td>\n",
       "      <td>44.722500</td>\n",
       "      <td>19.79</td>\n",
       "      <td>44.790000</td>\n",
       "      <td>19.000000</td>\n",
       "      <td>...</td>\n",
       "      <td>17.066667</td>\n",
       "      <td>45.56</td>\n",
       "      <td>6.483333</td>\n",
       "      <td>733.6</td>\n",
       "      <td>92.0</td>\n",
       "      <td>6.666667</td>\n",
       "      <td>59.166667</td>\n",
       "      <td>5.2</td>\n",
       "      <td>18.606195</td>\n",
       "      <td>18.606195</td>\n",
       "    </tr>\n",
       "    <tr>\n",
       "      <th>2</th>\n",
       "      <td>2016-01-11 17:20:00</td>\n",
       "      <td>50</td>\n",
       "      <td>30</td>\n",
       "      <td>19.89</td>\n",
       "      <td>46.300000</td>\n",
       "      <td>19.2</td>\n",
       "      <td>44.626667</td>\n",
       "      <td>19.79</td>\n",
       "      <td>44.933333</td>\n",
       "      <td>18.926667</td>\n",
       "      <td>...</td>\n",
       "      <td>17.000000</td>\n",
       "      <td>45.50</td>\n",
       "      <td>6.366667</td>\n",
       "      <td>733.7</td>\n",
       "      <td>92.0</td>\n",
       "      <td>6.333333</td>\n",
       "      <td>55.333333</td>\n",
       "      <td>5.1</td>\n",
       "      <td>28.642668</td>\n",
       "      <td>28.642668</td>\n",
       "    </tr>\n",
       "    <tr>\n",
       "      <th>3</th>\n",
       "      <td>2016-01-11 17:30:00</td>\n",
       "      <td>50</td>\n",
       "      <td>40</td>\n",
       "      <td>19.89</td>\n",
       "      <td>46.066667</td>\n",
       "      <td>19.2</td>\n",
       "      <td>44.590000</td>\n",
       "      <td>19.79</td>\n",
       "      <td>45.000000</td>\n",
       "      <td>18.890000</td>\n",
       "      <td>...</td>\n",
       "      <td>17.000000</td>\n",
       "      <td>45.40</td>\n",
       "      <td>6.250000</td>\n",
       "      <td>733.8</td>\n",
       "      <td>92.0</td>\n",
       "      <td>6.000000</td>\n",
       "      <td>51.500000</td>\n",
       "      <td>5.0</td>\n",
       "      <td>45.410389</td>\n",
       "      <td>45.410389</td>\n",
       "    </tr>\n",
       "    <tr>\n",
       "      <th>4</th>\n",
       "      <td>2016-01-11 17:40:00</td>\n",
       "      <td>60</td>\n",
       "      <td>40</td>\n",
       "      <td>19.89</td>\n",
       "      <td>46.333333</td>\n",
       "      <td>19.2</td>\n",
       "      <td>44.530000</td>\n",
       "      <td>19.79</td>\n",
       "      <td>45.000000</td>\n",
       "      <td>18.890000</td>\n",
       "      <td>...</td>\n",
       "      <td>17.000000</td>\n",
       "      <td>45.40</td>\n",
       "      <td>6.133333</td>\n",
       "      <td>733.9</td>\n",
       "      <td>92.0</td>\n",
       "      <td>5.666667</td>\n",
       "      <td>47.666667</td>\n",
       "      <td>4.9</td>\n",
       "      <td>10.084097</td>\n",
       "      <td>10.084097</td>\n",
       "    </tr>\n",
       "  </tbody>\n",
       "</table>\n",
       "<p>5 rows × 29 columns</p>\n",
       "</div>"
      ],
      "text/plain": [
       "                  date  Appliances  lights     T1       RH_1    T2       RH_2  \\\n",
       "0  2016-01-11 17:00:00          60      30  19.89  47.596667  19.2  44.790000   \n",
       "1  2016-01-11 17:10:00          60      30  19.89  46.693333  19.2  44.722500   \n",
       "2  2016-01-11 17:20:00          50      30  19.89  46.300000  19.2  44.626667   \n",
       "3  2016-01-11 17:30:00          50      40  19.89  46.066667  19.2  44.590000   \n",
       "4  2016-01-11 17:40:00          60      40  19.89  46.333333  19.2  44.530000   \n",
       "\n",
       "      T3       RH_3         T4  ...         T9   RH_9     T_out  Press_mm_hg  \\\n",
       "0  19.79  44.730000  19.000000  ...  17.033333  45.53  6.600000        733.5   \n",
       "1  19.79  44.790000  19.000000  ...  17.066667  45.56  6.483333        733.6   \n",
       "2  19.79  44.933333  18.926667  ...  17.000000  45.50  6.366667        733.7   \n",
       "3  19.79  45.000000  18.890000  ...  17.000000  45.40  6.250000        733.8   \n",
       "4  19.79  45.000000  18.890000  ...  17.000000  45.40  6.133333        733.9   \n",
       "\n",
       "   RH_out  Windspeed  Visibility  Tdewpoint        rv1        rv2  \n",
       "0    92.0   7.000000   63.000000        5.3  13.275433  13.275433  \n",
       "1    92.0   6.666667   59.166667        5.2  18.606195  18.606195  \n",
       "2    92.0   6.333333   55.333333        5.1  28.642668  28.642668  \n",
       "3    92.0   6.000000   51.500000        5.0  45.410389  45.410389  \n",
       "4    92.0   5.666667   47.666667        4.9  10.084097  10.084097  \n",
       "\n",
       "[5 rows x 29 columns]"
      ]
     },
     "execution_count": 3,
     "metadata": {},
     "output_type": "execute_result"
    }
   ],
   "source": [
    "data.head()"
   ]
  },
  {
   "cell_type": "code",
   "execution_count": 4,
   "id": "6917fc45",
   "metadata": {},
   "outputs": [],
   "source": [
    "col_names = {\"T1\":\"Kitchen_temp\",\n",
    "            \"RH_1\":\"Kitchen_hum\", \"T2\":\"Living_room_temp\", \"RH_2\":\"Living_room_hum\", \n",
    "             \"T3\":\"Laundry_room_temp\",\n",
    "            \"RH_3\":\"Laundry_room_hum\", \"T4\":\"Office_temp\", \"RH_4\":\"Office_hum\",\n",
    "            \"T5\":\"Bathroom_temp\", \"RH_5\":\"Bathroom_hum\", \"T6\": \"Outside_temp(north side)\",\n",
    "             \"RH_6\":\"Outside_hum(north side)\",\n",
    "            \"T7\": \"Ironing_room_temp\", \"RH_7\": \"Ironing_room_hum\", \n",
    "             \"T8\": \"Teenager_room_temp\", \"RH_8\":\"Teenager_room_hum\", \"T9\":\"Parent_room_temp\",\n",
    "            \"RH_9\":\"Parent_room_hum\", \"T_out\": \"Temp_outside\", \"Press_mm_hg\": \"Pressure\",\n",
    "            \"RH_out\":\"Hum_outside\",\"rv1\":\"Random_variable1\", \"rv2\":\"Random_variable2\"}"
   ]
  },
  {
   "cell_type": "code",
   "execution_count": 5,
   "id": "eba54291",
   "metadata": {},
   "outputs": [],
   "source": [
    "data = data.rename(columns = col_names)"
   ]
  },
  {
   "cell_type": "code",
   "execution_count": 6,
   "id": "cc662504",
   "metadata": {},
   "outputs": [
    {
     "name": "stdout",
     "output_type": "stream",
     "text": [
      "<class 'pandas.core.frame.DataFrame'>\n",
      "RangeIndex: 19735 entries, 0 to 19734\n",
      "Data columns (total 29 columns):\n",
      " #   Column                    Non-Null Count  Dtype  \n",
      "---  ------                    --------------  -----  \n",
      " 0   date                      19735 non-null  object \n",
      " 1   Appliances                19735 non-null  int64  \n",
      " 2   lights                    19735 non-null  int64  \n",
      " 3   Kitchen_temp              19735 non-null  float64\n",
      " 4   Kitchen_hum               19735 non-null  float64\n",
      " 5   Living_room_temp          19735 non-null  float64\n",
      " 6   Living_room_hum           19735 non-null  float64\n",
      " 7   Laundry_room_temp         19735 non-null  float64\n",
      " 8   Laundry_room_hum          19735 non-null  float64\n",
      " 9   Office_temp               19735 non-null  float64\n",
      " 10  Office_hum                19735 non-null  float64\n",
      " 11  Bathroom_temp             19735 non-null  float64\n",
      " 12  Bathroom_hum              19735 non-null  float64\n",
      " 13  Outside_temp(north side)  19735 non-null  float64\n",
      " 14  Outside_hum(north side)   19735 non-null  float64\n",
      " 15  Ironing_room_temp         19735 non-null  float64\n",
      " 16  Ironing_room_hum          19735 non-null  float64\n",
      " 17  Teenager_room_temp        19735 non-null  float64\n",
      " 18  Teenager_room_hum         19735 non-null  float64\n",
      " 19  Parent_room_temp          19735 non-null  float64\n",
      " 20  Parent_room_hum           19735 non-null  float64\n",
      " 21  Temp_outside              19735 non-null  float64\n",
      " 22  Pressure                  19735 non-null  float64\n",
      " 23  Hum_outside               19735 non-null  float64\n",
      " 24  Windspeed                 19735 non-null  float64\n",
      " 25  Visibility                19735 non-null  float64\n",
      " 26  Tdewpoint                 19735 non-null  float64\n",
      " 27  Random_variable1          19735 non-null  float64\n",
      " 28  Random_variable2          19735 non-null  float64\n",
      "dtypes: float64(26), int64(2), object(1)\n",
      "memory usage: 4.4+ MB\n"
     ]
    }
   ],
   "source": [
    "data.info()"
   ]
  },
  {
   "cell_type": "code",
   "execution_count": 7,
   "id": "9895e8b7",
   "metadata": {},
   "outputs": [],
   "source": [
    "data[\"date\"] = pd.to_datetime(data[\"date\"])"
   ]
  },
  {
   "cell_type": "code",
   "execution_count": 8,
   "id": "773fdeab",
   "metadata": {},
   "outputs": [
    {
     "data": {
      "text/html": [
       "<div>\n",
       "<style scoped>\n",
       "    .dataframe tbody tr th:only-of-type {\n",
       "        vertical-align: middle;\n",
       "    }\n",
       "\n",
       "    .dataframe tbody tr th {\n",
       "        vertical-align: top;\n",
       "    }\n",
       "\n",
       "    .dataframe thead th {\n",
       "        text-align: right;\n",
       "    }\n",
       "</style>\n",
       "<table border=\"1\" class=\"dataframe\">\n",
       "  <thead>\n",
       "    <tr style=\"text-align: right;\">\n",
       "      <th></th>\n",
       "      <th>date</th>\n",
       "      <th>Appliances</th>\n",
       "      <th>lights</th>\n",
       "      <th>Kitchen_temp</th>\n",
       "      <th>Kitchen_hum</th>\n",
       "      <th>Living_room_temp</th>\n",
       "      <th>Living_room_hum</th>\n",
       "      <th>Laundry_room_temp</th>\n",
       "      <th>Laundry_room_hum</th>\n",
       "      <th>Office_temp</th>\n",
       "      <th>...</th>\n",
       "      <th>Parent_room_temp</th>\n",
       "      <th>Parent_room_hum</th>\n",
       "      <th>Temp_outside</th>\n",
       "      <th>Pressure</th>\n",
       "      <th>Hum_outside</th>\n",
       "      <th>Windspeed</th>\n",
       "      <th>Visibility</th>\n",
       "      <th>Tdewpoint</th>\n",
       "      <th>Random_variable1</th>\n",
       "      <th>Random_variable2</th>\n",
       "    </tr>\n",
       "  </thead>\n",
       "  <tbody>\n",
       "    <tr>\n",
       "      <th>0</th>\n",
       "      <td>2016-01-11 17:00:00</td>\n",
       "      <td>60</td>\n",
       "      <td>30</td>\n",
       "      <td>19.89</td>\n",
       "      <td>47.596667</td>\n",
       "      <td>19.2</td>\n",
       "      <td>44.790000</td>\n",
       "      <td>19.79</td>\n",
       "      <td>44.730000</td>\n",
       "      <td>19.000000</td>\n",
       "      <td>...</td>\n",
       "      <td>17.033333</td>\n",
       "      <td>45.53</td>\n",
       "      <td>6.600000</td>\n",
       "      <td>733.5</td>\n",
       "      <td>92.0</td>\n",
       "      <td>7.000000</td>\n",
       "      <td>63.000000</td>\n",
       "      <td>5.3</td>\n",
       "      <td>13.275433</td>\n",
       "      <td>13.275433</td>\n",
       "    </tr>\n",
       "    <tr>\n",
       "      <th>1</th>\n",
       "      <td>2016-01-11 17:10:00</td>\n",
       "      <td>60</td>\n",
       "      <td>30</td>\n",
       "      <td>19.89</td>\n",
       "      <td>46.693333</td>\n",
       "      <td>19.2</td>\n",
       "      <td>44.722500</td>\n",
       "      <td>19.79</td>\n",
       "      <td>44.790000</td>\n",
       "      <td>19.000000</td>\n",
       "      <td>...</td>\n",
       "      <td>17.066667</td>\n",
       "      <td>45.56</td>\n",
       "      <td>6.483333</td>\n",
       "      <td>733.6</td>\n",
       "      <td>92.0</td>\n",
       "      <td>6.666667</td>\n",
       "      <td>59.166667</td>\n",
       "      <td>5.2</td>\n",
       "      <td>18.606195</td>\n",
       "      <td>18.606195</td>\n",
       "    </tr>\n",
       "    <tr>\n",
       "      <th>2</th>\n",
       "      <td>2016-01-11 17:20:00</td>\n",
       "      <td>50</td>\n",
       "      <td>30</td>\n",
       "      <td>19.89</td>\n",
       "      <td>46.300000</td>\n",
       "      <td>19.2</td>\n",
       "      <td>44.626667</td>\n",
       "      <td>19.79</td>\n",
       "      <td>44.933333</td>\n",
       "      <td>18.926667</td>\n",
       "      <td>...</td>\n",
       "      <td>17.000000</td>\n",
       "      <td>45.50</td>\n",
       "      <td>6.366667</td>\n",
       "      <td>733.7</td>\n",
       "      <td>92.0</td>\n",
       "      <td>6.333333</td>\n",
       "      <td>55.333333</td>\n",
       "      <td>5.1</td>\n",
       "      <td>28.642668</td>\n",
       "      <td>28.642668</td>\n",
       "    </tr>\n",
       "    <tr>\n",
       "      <th>3</th>\n",
       "      <td>2016-01-11 17:30:00</td>\n",
       "      <td>50</td>\n",
       "      <td>40</td>\n",
       "      <td>19.89</td>\n",
       "      <td>46.066667</td>\n",
       "      <td>19.2</td>\n",
       "      <td>44.590000</td>\n",
       "      <td>19.79</td>\n",
       "      <td>45.000000</td>\n",
       "      <td>18.890000</td>\n",
       "      <td>...</td>\n",
       "      <td>17.000000</td>\n",
       "      <td>45.40</td>\n",
       "      <td>6.250000</td>\n",
       "      <td>733.8</td>\n",
       "      <td>92.0</td>\n",
       "      <td>6.000000</td>\n",
       "      <td>51.500000</td>\n",
       "      <td>5.0</td>\n",
       "      <td>45.410389</td>\n",
       "      <td>45.410389</td>\n",
       "    </tr>\n",
       "    <tr>\n",
       "      <th>4</th>\n",
       "      <td>2016-01-11 17:40:00</td>\n",
       "      <td>60</td>\n",
       "      <td>40</td>\n",
       "      <td>19.89</td>\n",
       "      <td>46.333333</td>\n",
       "      <td>19.2</td>\n",
       "      <td>44.530000</td>\n",
       "      <td>19.79</td>\n",
       "      <td>45.000000</td>\n",
       "      <td>18.890000</td>\n",
       "      <td>...</td>\n",
       "      <td>17.000000</td>\n",
       "      <td>45.40</td>\n",
       "      <td>6.133333</td>\n",
       "      <td>733.9</td>\n",
       "      <td>92.0</td>\n",
       "      <td>5.666667</td>\n",
       "      <td>47.666667</td>\n",
       "      <td>4.9</td>\n",
       "      <td>10.084097</td>\n",
       "      <td>10.084097</td>\n",
       "    </tr>\n",
       "  </tbody>\n",
       "</table>\n",
       "<p>5 rows × 29 columns</p>\n",
       "</div>"
      ],
      "text/plain": [
       "                 date  Appliances  lights  Kitchen_temp  Kitchen_hum  \\\n",
       "0 2016-01-11 17:00:00          60      30         19.89    47.596667   \n",
       "1 2016-01-11 17:10:00          60      30         19.89    46.693333   \n",
       "2 2016-01-11 17:20:00          50      30         19.89    46.300000   \n",
       "3 2016-01-11 17:30:00          50      40         19.89    46.066667   \n",
       "4 2016-01-11 17:40:00          60      40         19.89    46.333333   \n",
       "\n",
       "   Living_room_temp  Living_room_hum  Laundry_room_temp  Laundry_room_hum  \\\n",
       "0              19.2        44.790000              19.79         44.730000   \n",
       "1              19.2        44.722500              19.79         44.790000   \n",
       "2              19.2        44.626667              19.79         44.933333   \n",
       "3              19.2        44.590000              19.79         45.000000   \n",
       "4              19.2        44.530000              19.79         45.000000   \n",
       "\n",
       "   Office_temp  ...  Parent_room_temp  Parent_room_hum  Temp_outside  \\\n",
       "0    19.000000  ...         17.033333            45.53      6.600000   \n",
       "1    19.000000  ...         17.066667            45.56      6.483333   \n",
       "2    18.926667  ...         17.000000            45.50      6.366667   \n",
       "3    18.890000  ...         17.000000            45.40      6.250000   \n",
       "4    18.890000  ...         17.000000            45.40      6.133333   \n",
       "\n",
       "   Pressure  Hum_outside  Windspeed  Visibility  Tdewpoint  Random_variable1  \\\n",
       "0     733.5         92.0   7.000000   63.000000        5.3         13.275433   \n",
       "1     733.6         92.0   6.666667   59.166667        5.2         18.606195   \n",
       "2     733.7         92.0   6.333333   55.333333        5.1         28.642668   \n",
       "3     733.8         92.0   6.000000   51.500000        5.0         45.410389   \n",
       "4     733.9         92.0   5.666667   47.666667        4.9         10.084097   \n",
       "\n",
       "   Random_variable2  \n",
       "0         13.275433  \n",
       "1         18.606195  \n",
       "2         28.642668  \n",
       "3         45.410389  \n",
       "4         10.084097  \n",
       "\n",
       "[5 rows x 29 columns]"
      ]
     },
     "execution_count": 8,
     "metadata": {},
     "output_type": "execute_result"
    }
   ],
   "source": [
    "data.head()"
   ]
  },
  {
   "cell_type": "markdown",
   "id": "4f8d1f1c",
   "metadata": {},
   "source": [
    "# Question 17:"
   ]
  },
  {
   "cell_type": "code",
   "execution_count": 9,
   "id": "378c37de",
   "metadata": {},
   "outputs": [
    {
     "data": {
      "text/plain": [
       "3.644"
      ]
     },
     "execution_count": 9,
     "metadata": {},
     "output_type": "execute_result"
    }
   ],
   "source": [
    "X = data[[\"Living_room_temp\"]]\n",
    "y = data[[\"Outside_temp(north side)\"]]\n",
    "\n",
    "model = LinearRegression()\n",
    "model.fit(X, y)\n",
    "\n",
    "y_pred = model.predict(X)\n",
    "\n",
    "rmse = np.sqrt(mean_squared_error(y, y_pred))\n",
    "round(rmse, 3)"
   ]
  },
  {
   "cell_type": "markdown",
   "id": "2e40f4f2",
   "metadata": {},
   "source": [
    "# Question 18: "
   ]
  },
  {
   "cell_type": "code",
   "execution_count": 10,
   "id": "3b35ac59",
   "metadata": {},
   "outputs": [
    {
     "data": {
      "text/plain": [
       "53.635"
      ]
     },
     "execution_count": 10,
     "metadata": {},
     "output_type": "execute_result"
    }
   ],
   "source": [
    "X = data.drop(columns=[\"date\", \"lights\", \"Appliances\"])\n",
    "y = data[[\"Appliances\"]]\n",
    "\n",
    "X_train, X_test, y_train, y_test = train_test_split(X, y, test_size=0.3, random_state=42)\n",
    "\n",
    "scaler = MinMaxScaler()\n",
    "X_train = scaler.fit_transform(X_train)\n",
    "X_test = scaler.transform(X_test)\n",
    "\n",
    "model = LinearRegression()\n",
    "model.fit(X_train, y_train)\n",
    "\n",
    "y_pred = model.predict(X_test)\n",
    "mae = mean_absolute_error(y_test, y_pred)\n",
    "\n",
    "round(mae, 3)"
   ]
  },
  {
   "cell_type": "markdown",
   "id": "e047c55b",
   "metadata": {},
   "source": [
    "# Question 19: "
   ]
  },
  {
   "cell_type": "code",
   "execution_count": 11,
   "id": "92d7f8b6",
   "metadata": {},
   "outputs": [
    {
     "data": {
      "text/plain": [
       "95.216"
      ]
     },
     "execution_count": 11,
     "metadata": {},
     "output_type": "execute_result"
    }
   ],
   "source": [
    "y_pred_train = model.predict(X_train)\n",
    "\n",
    "\n",
    "RMSE = np.sqrt(mean_squared_error(y_train, y_pred_train))\n",
    "\n",
    "round(RMSE, 3)"
   ]
  },
  {
   "cell_type": "markdown",
   "id": "8e0cc093",
   "metadata": {},
   "source": [
    "# Question 20"
   ]
  },
  {
   "cell_type": "code",
   "execution_count": 12,
   "id": "fa0e69bf",
   "metadata": {},
   "outputs": [
    {
     "data": {
      "text/plain": [
       "53.635"
      ]
     },
     "execution_count": 12,
     "metadata": {},
     "output_type": "execute_result"
    }
   ],
   "source": [
    "y_test_pred = model.predict(X_test)\n",
    "MAE = mean_absolute_error(y_test, y_test_pred)\n",
    "\n",
    "round(MAE, 3)"
   ]
  },
  {
   "cell_type": "markdown",
   "id": "317234a8",
   "metadata": {},
   "source": [
    "# Question 21"
   ]
  },
  {
   "cell_type": "code",
   "execution_count": 13,
   "id": "36887d2c",
   "metadata": {},
   "outputs": [
    {
     "data": {
      "text/plain": [
       "93.638"
      ]
     },
     "execution_count": 13,
     "metadata": {},
     "output_type": "execute_result"
    }
   ],
   "source": [
    "y_pred_test = model.predict(X_test)\n",
    "\n",
    "RMSE_test = np.sqrt(mean_squared_error(y_test, y_pred_test))\n",
    "\n",
    "round(RMSE_test, 3)"
   ]
  },
  {
   "cell_type": "code",
   "execution_count": null,
   "id": "f1e0490e",
   "metadata": {},
   "outputs": [],
   "source": []
  },
  {
   "cell_type": "markdown",
   "id": "36b7e1d9",
   "metadata": {},
   "source": [
    "# Question 22"
   ]
  },
  {
   "cell_type": "markdown",
   "id": "f19f1533",
   "metadata": {},
   "source": [
    "## No overfitting"
   ]
  },
  {
   "cell_type": "markdown",
   "id": "3e865d04",
   "metadata": {},
   "source": [
    "# Question 23: "
   ]
  },
  {
   "cell_type": "code",
   "execution_count": 14,
   "id": "63339e30",
   "metadata": {},
   "outputs": [
    {
     "data": {
      "text/plain": [
       "93.709"
      ]
     },
     "execution_count": 14,
     "metadata": {},
     "output_type": "execute_result"
    }
   ],
   "source": [
    "rigde_reg = Ridge()\n",
    "\n",
    "rigde_reg.fit(X_train, y_train)\n",
    "y_pred = rigde_reg.predict(X_test)\n",
    "\n",
    "RMSE_ridge = np.sqrt(mean_squared_error(y_test, y_pred))\n",
    "round(RMSE_ridge, 3)"
   ]
  },
  {
   "cell_type": "markdown",
   "id": "81f808e9",
   "metadata": {},
   "source": [
    "# Question 24"
   ]
  },
  {
   "cell_type": "code",
   "execution_count": 15,
   "id": "56fa96d7",
   "metadata": {},
   "outputs": [
    {
     "data": {
      "text/plain": [
       "4"
      ]
     },
     "execution_count": 15,
     "metadata": {},
     "output_type": "execute_result"
    }
   ],
   "source": [
    "lasso_reg = Lasso()\n",
    "lasso_reg.fit(X_train, y_train)\n",
    "non_zero_features = sum(lasso_reg.coef_ != 0)\n",
    "non_zero_features"
   ]
  },
  {
   "cell_type": "markdown",
   "id": "1a12d3a5",
   "metadata": {},
   "source": [
    "# Question 25: "
   ]
  },
  {
   "cell_type": "code",
   "execution_count": 16,
   "id": "c5cbbfab",
   "metadata": {},
   "outputs": [
    {
     "data": {
      "text/plain": [
       "99.424"
      ]
     },
     "execution_count": 16,
     "metadata": {},
     "output_type": "execute_result"
    }
   ],
   "source": [
    "pred = lasso_reg.predict(X_test)\n",
    "RMSE_lasso = np.sqrt(mean_squared_error(y_test, pred))\n",
    "round(RMSE_lasso,3)"
   ]
  },
  {
   "cell_type": "code",
   "execution_count": null,
   "id": "03b09974",
   "metadata": {},
   "outputs": [],
   "source": []
  }
 ],
 "metadata": {
  "kernelspec": {
   "display_name": "Python 3 (ipykernel)",
   "language": "python",
   "name": "python3"
  },
  "language_info": {
   "codemirror_mode": {
    "name": "ipython",
    "version": 3
   },
   "file_extension": ".py",
   "mimetype": "text/x-python",
   "name": "python",
   "nbconvert_exporter": "python",
   "pygments_lexer": "ipython3",
   "version": "3.10.9"
  }
 },
 "nbformat": 4,
 "nbformat_minor": 5
}
